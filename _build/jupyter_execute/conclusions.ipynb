{
 "cells": [
  {
   "cell_type": "markdown",
   "id": "1bd1dcdb",
   "metadata": {},
   "source": [
    "# conclusion\n",
    "\n",
    "[nhanes.ado](https://raw.githubusercontent.com/jhustata/nhanes/main/nhanes.ado) version control!\n",
    "\n",
    "[nhanes.ael.keep.do](https://raw.githubusercontent.com/jhustata/nhanes/main/nhanes.ael.keep.do)"
   ]
  },
  {
   "cell_type": "code",
   "execution_count": 1,
   "id": "5a59aafa",
   "metadata": {},
   "outputs": [
    {
     "name": "stdout",
     "output_type": "stream",
     "text": [
      "4\n"
     ]
    }
   ],
   "source": [
    "print(2 + 2)"
   ]
  },
  {
   "cell_type": "markdown",
   "id": "83958cdf",
   "metadata": {},
   "source": [
    "```{seealso}\n",
    "Jupyter Book uses [Jupytext](https://jupytext.readthedocs.io/en/latest/) to convert text-based files to notebooks, and can support [many other text-based notebook files](https://jupyterbook.org/file-types/jupytext.html).\n",
    "```"
   ]
  }
 ],
 "metadata": {
  "jupytext": {
   "formats": "md:myst",
   "text_representation": {
    "extension": ".md",
    "format_name": "myst",
    "format_version": 0.13,
    "jupytext_version": "1.11.5"
   }
  },
  "kernelspec": {
   "display_name": "Python 3",
   "language": "python",
   "name": "python3"
  },
  "language_info": {
   "codemirror_mode": {
    "name": "ipython",
    "version": 3
   },
   "file_extension": ".py",
   "mimetype": "text/x-python",
   "name": "python",
   "nbconvert_exporter": "python",
   "pygments_lexer": "ipython3",
   "version": "3.10.9"
  },
  "source_map": [
   13,
   21,
   23
  ]
 },
 "nbformat": 4,
 "nbformat_minor": 5
}